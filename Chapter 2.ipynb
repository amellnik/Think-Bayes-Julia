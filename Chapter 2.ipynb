{
 "cells": [
  {
   "cell_type": "markdown",
   "metadata": {},
   "source": [
    "## Chapter 2\n",
    "\n",
    "### 2.2"
   ]
  },
  {
   "cell_type": "code",
   "execution_count": 1,
   "metadata": {},
   "outputs": [
    {
     "data": {
      "text/plain": [
       "Dict{Any,Float64} with 0 entries"
      ]
     },
     "execution_count": 1,
     "metadata": {},
     "output_type": "execute_result"
    }
   ],
   "source": [
    "const Pmf = Dict{T, Float64} where T <: Any\n",
    "pmf = Dict{Any, Float64}()"
   ]
  },
  {
   "cell_type": "code",
   "execution_count": 2,
   "metadata": {},
   "outputs": [
    {
     "data": {
      "text/plain": [
       "Dict{Any,Float64} with 2 entries:\n",
       "  \"Bowl 1\" => 0.5\n",
       "  \"Bowl 2\" => 0.5"
      ]
     },
     "execution_count": 2,
     "metadata": {},
     "output_type": "execute_result"
    }
   ],
   "source": [
    "pmf[\"Bowl 1\"] = 0.5\n",
    "pmf[\"Bowl 2\"] = 0.5\n",
    "pmf"
   ]
  },
  {
   "cell_type": "code",
   "execution_count": 3,
   "metadata": {},
   "outputs": [
    {
     "data": {
      "text/plain": [
       "Dict{Any,Float64} with 2 entries:\n",
       "  \"Bowl 1\" => 0.375\n",
       "  \"Bowl 2\" => 0.25"
      ]
     },
     "execution_count": 3,
     "metadata": {},
     "output_type": "execute_result"
    }
   ],
   "source": [
    "function mult(pmf::Pmf, hypo, prob) \n",
    "    pmf[hypo] = pmf[hypo] * prob\n",
    "    pmf\n",
    "end\n",
    "mult(pmf, \"Bowl 1\", .75)\n",
    "mult(pmf, \"Bowl 2\", .5)"
   ]
  },
  {
   "cell_type": "code",
   "execution_count": 4,
   "metadata": {},
   "outputs": [
    {
     "data": {
      "text/plain": [
       "Dict{Any,Float64} with 2 entries:\n",
       "  \"Bowl 1\" => 0.6\n",
       "  \"Bowl 2\" => 0.4"
      ]
     },
     "execution_count": 4,
     "metadata": {},
     "output_type": "execute_result"
    }
   ],
   "source": [
    "sump(pmf::Pmf) = sum(collect(values(pmf)))\n",
    "function normp(pmf::Pmf) \n",
    "    s = sump(pmf)\n",
    "    for k in keys(pmf)\n",
    "        pmf[k] = pmf[k] / s\n",
    "    end\n",
    "    pmf\n",
    "end\n",
    "normp(pmf)"
   ]
  },
  {
   "cell_type": "markdown",
   "metadata": {},
   "source": [
    "### 2.3"
   ]
  },
  {
   "cell_type": "code",
   "execution_count": 11,
   "metadata": {},
   "outputs": [
    {
     "data": {
      "text/plain": [
       "Dict{String,Float64} with 2 entries:\n",
       "  \"Bowl 1\" => 0.5\n",
       "  \"Bowl 2\" => 0.5"
      ]
     },
     "execution_count": 11,
     "metadata": {},
     "output_type": "execute_result"
    }
   ],
   "source": [
    "function new_pmf(hypos::Array{T,1}) where T <: Any\n",
    "    pmf = Dict{T, Float64}()\n",
    "    for h in hypos\n",
    "        pmf[h] = 1 / length(hypos)\n",
    "    end\n",
    "    pmf\n",
    "end\n",
    "pmf = new_pmf([\"Bowl 1\", \"Bowl 2\"])"
   ]
  },
  {
   "cell_type": "code",
   "execution_count": 12,
   "metadata": {},
   "outputs": [
    {
     "data": {
      "text/plain": [
       "Dict{String,Float64} with 2 entries:\n",
       "  \"Bowl 1\" => 0.6\n",
       "  \"Bowl 2\" => 0.4"
      ]
     },
     "execution_count": 12,
     "metadata": {},
     "output_type": "execute_result"
    }
   ],
   "source": [
    "function likelihood(pmf::Pmf, hypo, data)\n",
    "    mixes = Dict(\n",
    "        \"Bowl 1\" => Dict(\"vanilla\" => 0.75, \"chocolate\" => 0.25),\n",
    "        \"Bowl 2\" => Dict(\"vanilla\" => 0.5, \"chocolate\" => 0.5)\n",
    "    )\n",
    "    return mixes[hypo][data]\n",
    "end\n",
    "function update(pmf::Pmf, obs)\n",
    "    for hypo in keys(pmf)\n",
    "        like = likelihood(pmf, hypo, obs)\n",
    "        mult(pmf, hypo, like)\n",
    "    end\n",
    "    normp(pmf)\n",
    "end\n",
    "update(pmf, \"vanilla\")"
   ]
  },
  {
   "cell_type": "markdown",
   "metadata": {},
   "source": [
    "## Chapter 3"
   ]
  },
  {
   "cell_type": "code",
   "execution_count": null,
   "metadata": {},
   "outputs": [],
   "source": []
  }
 ],
 "metadata": {
  "kernelspec": {
   "display_name": "Julia 0.6.1",
   "language": "julia",
   "name": "julia-0.6"
  },
  "language_info": {
   "file_extension": ".jl",
   "mimetype": "application/julia",
   "name": "julia",
   "version": "0.6.1"
  }
 },
 "nbformat": 4,
 "nbformat_minor": 2
}
